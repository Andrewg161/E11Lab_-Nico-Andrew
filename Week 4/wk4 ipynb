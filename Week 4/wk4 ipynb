the .ipynb for week 4's work is in the .ipynb for week 5
